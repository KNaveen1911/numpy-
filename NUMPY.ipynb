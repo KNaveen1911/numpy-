{
 "cells": [
  {
   "cell_type": "code",
   "execution_count": 2,
   "id": "b9421aa9",
   "metadata": {},
   "outputs": [],
   "source": [
    "import numpy as np"
   ]
  },
  {
   "cell_type": "code",
   "execution_count": 3,
   "id": "9e606569",
   "metadata": {},
   "outputs": [],
   "source": [
    "ar1=np.array([1,2,3])\n",
    "ar1=np.array([100,'raju',23,99])"
   ]
  },
  {
   "cell_type": "code",
   "execution_count": 4,
   "id": "d0b57d1c",
   "metadata": {},
   "outputs": [
    {
     "name": "stdout",
     "output_type": "stream",
     "text": [
      "<class 'numpy.ndarray'>\n"
     ]
    }
   ],
   "source": [
    "print(type(ar1))"
   ]
  },
  {
   "cell_type": "code",
   "execution_count": 5,
   "id": "7c04ec56",
   "metadata": {},
   "outputs": [
    {
     "name": "stdout",
     "output_type": "stream",
     "text": [
      "[1 2 3]\n"
     ]
    }
   ],
   "source": [
    "print(np.array([1,2,3]))"
   ]
  },
  {
   "cell_type": "code",
   "execution_count": 6,
   "id": "f4d6d1d1",
   "metadata": {},
   "outputs": [
    {
     "name": "stdout",
     "output_type": "stream",
     "text": [
      "[0. 0. 0. 0. 0.]\n"
     ]
    }
   ],
   "source": [
    "print(np.zeros(5))"
   ]
  },
  {
   "cell_type": "code",
   "execution_count": 7,
   "id": "9fca50c8",
   "metadata": {},
   "outputs": [
    {
     "name": "stdout",
     "output_type": "stream",
     "text": [
      "[[0 0 0 0 0]\n",
      " [0 0 0 0 0]\n",
      " [0 0 0 0 0]]\n"
     ]
    }
   ],
   "source": [
    "print(np.zeros((3,5),dtype=int))#3 rows 5 columns"
   ]
  },
  {
   "cell_type": "code",
   "execution_count": 8,
   "id": "41f6131b",
   "metadata": {},
   "outputs": [
    {
     "name": "stdout",
     "output_type": "stream",
     "text": [
      "[[0. 0. 0. 0. 0.]\n",
      " [0. 0. 0. 0. 0.]\n",
      " [0. 0. 0. 0. 0.]]\n"
     ]
    }
   ],
   "source": [
    "print(np.zeros((3,5))) #float"
   ]
  },
  {
   "cell_type": "code",
   "execution_count": 9,
   "id": "9fb500a0",
   "metadata": {},
   "outputs": [
    {
     "name": "stdout",
     "output_type": "stream",
     "text": [
      "[[1. 1. 1. 1.]\n",
      " [1. 1. 1. 1.]\n",
      " [1. 1. 1. 1.]]\n"
     ]
    }
   ],
   "source": [
    "print(np.ones((3,4)))"
   ]
  },
  {
   "cell_type": "code",
   "execution_count": 10,
   "id": "2d4ee4ad",
   "metadata": {},
   "outputs": [
    {
     "name": "stdout",
     "output_type": "stream",
     "text": [
      "[[5 5 5]\n",
      " [5 5 5]\n",
      " [5 5 5]]\n"
     ]
    }
   ],
   "source": [
    "print(np.full((3,3),(5)))#3x3 array with value 5"
   ]
  },
  {
   "cell_type": "code",
   "execution_count": 11,
   "id": "b3783bbd",
   "metadata": {},
   "outputs": [
    {
     "name": "stdout",
     "output_type": "stream",
     "text": [
      "[[1. 0. 0.]\n",
      " [0. 1. 0.]\n",
      " [0. 0. 1.]]\n"
     ]
    }
   ],
   "source": [
    "print(np.eye(3))#identity matrix 1 diagonal matrix"
   ]
  },
  {
   "cell_type": "code",
   "execution_count": 12,
   "id": "a67fdf20",
   "metadata": {},
   "outputs": [
    {
     "name": "stdout",
     "output_type": "stream",
     "text": [
      "[ 5.         11.42857143 17.85714286 24.28571429 30.71428571 37.14285714\n",
      " 43.57142857 50.        ]\n"
     ]
    }
   ],
   "source": [
    "#linspace(start,end,number of items)\n",
    "print(np.linspace(5,50,8))# will create 8 equal parts b/n 5 to 50(float)"
   ]
  },
  {
   "cell_type": "code",
   "execution_count": 13,
   "id": "b94c90e7",
   "metadata": {},
   "outputs": [
    {
     "name": "stdout",
     "output_type": "stream",
     "text": [
      "[10 12 14 16 18 20 22 24 26 28]\n"
     ]
    }
   ],
   "source": [
    "#np.arange(start,stop,step)\n",
    "print(np.arange(10,30,2))  #(int)it creates an array from 10 to 30 with step size 2\n"
   ]
  },
  {
   "cell_type": "code",
   "execution_count": 14,
   "id": "c91817fa",
   "metadata": {},
   "outputs": [
    {
     "name": "stdout",
     "output_type": "stream",
     "text": [
      "[[[0.04316938 0.39534567 0.20265873 ... 0.41355348 0.45781507 0.14381365]\n",
      "  [0.41918782 0.15639507 0.47895403 ... 0.42750884 0.21442592 0.98226776]\n",
      "  [0.27860232 0.45319262 0.82220812 ... 0.71684349 0.26402859 0.79640865]]\n",
      "\n",
      " [[0.92282687 0.00975536 0.62707965 ... 0.66929065 0.10816162 0.57053406]\n",
      "  [0.52572757 0.63591505 0.53054943 ... 0.3720616  0.17599411 0.7068824 ]\n",
      "  [0.06451659 0.62167602 0.87533844 ... 0.43007081 0.26422664 0.57820342]]]\n"
     ]
    }
   ],
   "source": [
    "# rand  = 0-1\n",
    "print(np.random.rand(2,3,200))# gives values b/n 0-1"
   ]
  },
  {
   "cell_type": "code",
   "execution_count": 15,
   "id": "a26676f4",
   "metadata": {},
   "outputs": [
    {
     "name": "stdout",
     "output_type": "stream",
     "text": [
      "[[ 1.88102803 26.50820512 69.82258812 37.81262195 62.26132364]\n",
      " [33.6819476  50.33274713 24.57665774  6.60623861 44.64409027]\n",
      " [ 7.82693209 35.60913434 24.78866787 44.65901012 19.86065091]\n",
      " [38.40952697 37.00216749 20.90484549 70.78291028 70.51338697]\n",
      " [35.45605406 12.54181798 70.12454529 59.43821979 57.86850915]]\n"
     ]
    }
   ],
   "source": [
    "print(np.random.rand(5,5)*75) # 5x5 matrix with random values b/n 0-75\n"
   ]
  },
  {
   "cell_type": "code",
   "execution_count": 16,
   "id": "c8012546",
   "metadata": {},
   "outputs": [
    {
     "name": "stdout",
     "output_type": "stream",
     "text": [
      "6\n"
     ]
    }
   ],
   "source": [
    "print(np.random.choice([1,2,3,4,5,6])) #picks a random number\n"
   ]
  },
  {
   "cell_type": "code",
   "execution_count": 17,
   "id": "c3fe8f2c",
   "metadata": {},
   "outputs": [
    {
     "name": "stdout",
     "output_type": "stream",
     "text": [
      "[[1 3 3]\n",
      " [4 2 3]\n",
      " [1 4 4]]\n"
     ]
    }
   ],
   "source": [
    "print(np.random.choice([1,2,3,4],size=(3,3)))\n"
   ]
  },
  {
   "cell_type": "code",
   "execution_count": 18,
   "id": "ea6e5173",
   "metadata": {},
   "outputs": [
    {
     "name": "stdout",
     "output_type": "stream",
     "text": [
      "[[ 6 14  2 14  3]\n",
      " [10  2  5  9  1]\n",
      " [ 6  5  2  1  3]\n",
      " [ 8  3  1 11  0]\n",
      " [14  2 10 13  9]]\n"
     ]
    }
   ],
   "source": [
    "#\"randint\"fit gives random values between them , no float vlaues\n",
    "print(np.random.randint(15,size=(5,5)))# will create array with random ints  b/n 0-14\n"
   ]
  },
  {
   "cell_type": "code",
   "execution_count": 19,
   "id": "a9fcfb5e",
   "metadata": {},
   "outputs": [
    {
     "name": "stdout",
     "output_type": "stream",
     "text": [
      "[[17 19 20]\n",
      " [21 24 17]\n",
      " [16 23 24]\n",
      " [20 23 17]]\n"
     ]
    }
   ],
   "source": [
    "print(np.random.randint(15,25,size=(4,3)))"
   ]
  },
  {
   "cell_type": "code",
   "execution_count": 20,
   "id": "dfa7d4d3",
   "metadata": {},
   "outputs": [
    {
     "name": "stdout",
     "output_type": "stream",
     "text": [
      "[59 31 29 50 72 16 26 88 79 21 88 30 67 53 55 13 91 33 50 77]\n"
     ]
    }
   ],
   "source": [
    "print(np.random.randint(1,100,20))"
   ]
  },
  {
   "cell_type": "code",
   "execution_count": 21,
   "id": "ed2caee3",
   "metadata": {},
   "outputs": [
    {
     "name": "stdout",
     "output_type": "stream",
     "text": [
      "[ 3.55080703 25.17291037 20.53713242  8.4144749  22.63808824  3.49825098\n",
      " 12.71744348  8.48321859 13.67050698 17.35389559  7.38250247 12.10672444\n",
      " 29.48132586  8.76971226 10.3761973  29.26840378 18.55878103 12.8716689\n",
      " 19.67985917 19.85858484 14.08073873 20.1414587   3.52172168 15.90222866\n",
      " 14.74406597 27.42621173 27.9946695  21.54757834  9.93319213  1.71200342\n",
      " 19.27764705 29.93440442  2.4153404  15.79349313 18.00823659  6.79706077\n",
      " 26.99805916  0.99074795 22.19165047 21.6677703  23.05702413  7.72745567\n",
      " 16.47469032 16.19762358  5.04252743 23.79528721  3.40493052 19.83715266\n",
      " 22.38271186 21.79117861]\n"
     ]
    }
   ],
   "source": [
    "# values are between them only with float values\n",
    "print(np.random.uniform(0.9,30.5,50))\n"
   ]
  },
  {
   "cell_type": "code",
   "execution_count": 22,
   "id": "7ecb3d32",
   "metadata": {},
   "outputs": [
    {
     "name": "stdout",
     "output_type": "stream",
     "text": [
      "[ 2.2844254   0.31179416  2.89178532  0.50698601 -2.29928004  0.76328737\n",
      "  0.87764508 -0.88990429 -0.23539942  0.99830432]\n"
     ]
    }
   ],
   "source": [
    "#  normal distributed data  i.e graph like  ----^----\n",
    "print(np.random.randn(10)) "
   ]
  },
  {
   "cell_type": "code",
   "execution_count": 23,
   "id": "e1665827",
   "metadata": {},
   "outputs": [],
   "source": [
    "c=np.array([40,50,60])\n",
    "d=np.array([70,80,66])"
   ]
  },
  {
   "cell_type": "code",
   "execution_count": 24,
   "id": "7b7340ba",
   "metadata": {},
   "outputs": [
    {
     "name": "stdout",
     "output_type": "stream",
     "text": [
      "[110 130 126]\n"
     ]
    }
   ],
   "source": [
    "print(c+d)"
   ]
  },
  {
   "cell_type": "code",
   "execution_count": 25,
   "id": "9ebeb8fd",
   "metadata": {},
   "outputs": [
    {
     "name": "stdout",
     "output_type": "stream",
     "text": [
      "(3,)\n"
     ]
    }
   ],
   "source": [
    "print(c.shape)"
   ]
  },
  {
   "cell_type": "code",
   "execution_count": 26,
   "id": "71583643",
   "metadata": {},
   "outputs": [
    {
     "name": "stdout",
     "output_type": "stream",
     "text": [
      "[2800 4000 3960]\n"
     ]
    }
   ],
   "source": [
    "print(c*d)"
   ]
  },
  {
   "cell_type": "code",
   "execution_count": 27,
   "id": "ba64035c",
   "metadata": {},
   "outputs": [
    {
     "name": "stdout",
     "output_type": "stream",
     "text": [
      "60\n"
     ]
    }
   ],
   "source": [
    "print(np.max(c))"
   ]
  },
  {
   "cell_type": "code",
   "execution_count": 28,
   "id": "2c572101",
   "metadata": {},
   "outputs": [
    {
     "name": "stdout",
     "output_type": "stream",
     "text": [
      "[ 0.74511316 -0.26237485 -0.30481062]\n"
     ]
    }
   ],
   "source": [
    "print(np.sin(c))"
   ]
  },
  {
   "cell_type": "code",
   "execution_count": 29,
   "id": "a1a0492b",
   "metadata": {},
   "outputs": [
    {
     "name": "stdout",
     "output_type": "stream",
     "text": [
      "[-1.11721493 -0.27190061  0.32004039]\n"
     ]
    }
   ],
   "source": [
    "print(np.tan(c))"
   ]
  },
  {
   "cell_type": "code",
   "execution_count": 30,
   "id": "e6fae815",
   "metadata": {},
   "outputs": [
    {
     "name": "stdout",
     "output_type": "stream",
     "text": [
      "50.0\n"
     ]
    }
   ],
   "source": [
    "print(np.mean(c))"
   ]
  },
  {
   "cell_type": "code",
   "execution_count": 31,
   "id": "d182cc5c",
   "metadata": {},
   "outputs": [
    {
     "name": "stdout",
     "output_type": "stream",
     "text": [
      "70.0\n"
     ]
    }
   ],
   "source": [
    "print(np.median(d))"
   ]
  },
  {
   "cell_type": "code",
   "execution_count": 32,
   "id": "afa1ecd1",
   "metadata": {},
   "outputs": [
    {
     "name": "stdout",
     "output_type": "stream",
     "text": [
      "[2.35385267e+17 5.18470553e+21 1.14200739e+26]\n"
     ]
    }
   ],
   "source": [
    "print(np.exp(c))"
   ]
  },
  {
   "cell_type": "code",
   "execution_count": 33,
   "id": "bc429e61",
   "metadata": {},
   "outputs": [
    {
     "name": "stdout",
     "output_type": "stream",
     "text": [
      "150\n"
     ]
    }
   ],
   "source": [
    "print(np.sum(c))"
   ]
  },
  {
   "cell_type": "markdown",
   "id": "91e65452",
   "metadata": {},
   "source": [
    "# inspecting properties"
   ]
  },
  {
   "cell_type": "code",
   "execution_count": 34,
   "id": "93b630ea",
   "metadata": {},
   "outputs": [],
   "source": [
    "arr=np.array([[1,2,3],[4,5,6],[6,7,8],[9,8,7],[4,3,2],[2,3,6]])# float>int"
   ]
  },
  {
   "cell_type": "code",
   "execution_count": 35,
   "id": "f74823b7",
   "metadata": {},
   "outputs": [
    {
     "name": "stdout",
     "output_type": "stream",
     "text": [
      "18\n"
     ]
    }
   ],
   "source": [
    "print(arr.size) # no of elements in the array\n"
   ]
  },
  {
   "cell_type": "code",
   "execution_count": 36,
   "id": "b242848a",
   "metadata": {},
   "outputs": [
    {
     "name": "stdout",
     "output_type": "stream",
     "text": [
      "(6, 3)\n"
     ]
    }
   ],
   "source": [
    "print(arr.shape) # give the type of matrix\n"
   ]
  },
  {
   "cell_type": "code",
   "execution_count": 37,
   "id": "1047e15f",
   "metadata": {},
   "outputs": [
    {
     "name": "stdout",
     "output_type": "stream",
     "text": [
      "the data type of the array: int32\n"
     ]
    }
   ],
   "source": [
    "print(\"the data type of the array:\",arr.dtype)#data type\n"
   ]
  },
  {
   "cell_type": "code",
   "execution_count": 38,
   "id": "be5e528b",
   "metadata": {},
   "outputs": [
    {
     "name": "stdout",
     "output_type": "stream",
     "text": [
      "convertion to list: [[1, 2, 3], [4, 5, 6], [6, 7, 8], [9, 8, 7], [4, 3, 2], [2, 3, 6]]\n"
     ]
    }
   ],
   "source": [
    "print(\"convertion to list:\",arr.tolist())"
   ]
  },
  {
   "cell_type": "markdown",
   "id": "d8ef15c5",
   "metadata": {},
   "source": [
    "# copying/sorting/reshaping"
   ]
  },
  {
   "cell_type": "code",
   "execution_count": 39,
   "id": "bd778137",
   "metadata": {},
   "outputs": [
    {
     "name": "stdout",
     "output_type": "stream",
     "text": [
      "[[2 3 4]\n",
      " [6 7 8]]\n"
     ]
    }
   ],
   "source": [
    "arr=np.array([[2,3,4],[6,7,8]])\n",
    "print(arr)"
   ]
  },
  {
   "cell_type": "code",
   "execution_count": 40,
   "id": "78e080b2",
   "metadata": {},
   "outputs": [
    {
     "name": "stdout",
     "output_type": "stream",
     "text": [
      "Address of arr: 2377102151728\n"
     ]
    }
   ],
   "source": [
    "print(\"Address of arr:\",id(arr))"
   ]
  },
  {
   "cell_type": "code",
   "execution_count": 41,
   "id": "6ad13de1",
   "metadata": {},
   "outputs": [],
   "source": [
    "arr1=arr"
   ]
  },
  {
   "cell_type": "code",
   "execution_count": 42,
   "id": "50dda1ae",
   "metadata": {},
   "outputs": [
    {
     "name": "stdout",
     "output_type": "stream",
     "text": [
      "Address of arr: 2377102151728\n"
     ]
    }
   ],
   "source": [
    "print(\"Address of arr:\",id(arr1))"
   ]
  },
  {
   "cell_type": "code",
   "execution_count": 43,
   "id": "a3ce36f0",
   "metadata": {},
   "outputs": [],
   "source": [
    "#the address is same"
   ]
  },
  {
   "cell_type": "code",
   "execution_count": 44,
   "id": "8967a0b6",
   "metadata": {},
   "outputs": [],
   "source": [
    "arr2=np.copy(arr)"
   ]
  },
  {
   "cell_type": "code",
   "execution_count": 45,
   "id": "96f00cfa",
   "metadata": {},
   "outputs": [
    {
     "name": "stdout",
     "output_type": "stream",
     "text": [
      "Address of arr2: 2377102153168\n"
     ]
    }
   ],
   "source": [
    "print(\"Address of arr2:\",id(arr2))"
   ]
  },
  {
   "cell_type": "markdown",
   "id": "6be9e648",
   "metadata": {},
   "source": [
    "# copy method implementation of integer"
   ]
  },
  {
   "cell_type": "code",
   "execution_count": 46,
   "id": "def46b84",
   "metadata": {},
   "outputs": [
    {
     "name": "stdout",
     "output_type": "stream",
     "text": [
      "Address of a: 2377101950640\n"
     ]
    }
   ],
   "source": [
    "a=1911\n",
    "print(\"Address of a:\",id(a))"
   ]
  },
  {
   "cell_type": "code",
   "execution_count": 47,
   "id": "3af8a2b9",
   "metadata": {},
   "outputs": [
    {
     "name": "stdout",
     "output_type": "stream",
     "text": [
      "Address of b: 2377101950640\n"
     ]
    }
   ],
   "source": [
    "b=a\n",
    "print(\"Address of b:\",id(b))"
   ]
  },
  {
   "cell_type": "code",
   "execution_count": 48,
   "id": "a4ae21a3",
   "metadata": {},
   "outputs": [
    {
     "name": "stdout",
     "output_type": "stream",
     "text": [
      "Address of c: 2377102155280\n"
     ]
    }
   ],
   "source": [
    "c=np.copy(a)\n",
    "print(\"Address of c:\",id(c))"
   ]
  },
  {
   "cell_type": "code",
   "execution_count": null,
   "id": "144cc290",
   "metadata": {},
   "outputs": [],
   "source": []
  },
  {
   "cell_type": "code",
   "execution_count": 49,
   "id": "2e327539",
   "metadata": {},
   "outputs": [
    {
     "name": "stdout",
     "output_type": "stream",
     "text": [
      "[3 5 7 8 9]\n"
     ]
    }
   ],
   "source": [
    "arr=np.array([ 3,5,7,8,9])\n",
    "print(arr)"
   ]
  },
  {
   "cell_type": "code",
   "execution_count": 50,
   "id": "cb504081",
   "metadata": {},
   "outputs": [],
   "source": [
    "arr=np.array([\"shiva\",56,78.8,98,\"naveen\"]) #sees first character\n"
   ]
  },
  {
   "cell_type": "code",
   "execution_count": 51,
   "id": "fceb6f76",
   "metadata": {},
   "outputs": [
    {
     "name": "stdout",
     "output_type": "stream",
     "text": [
      "['shiva' '56' '78.8' '98' 'naveen']\n"
     ]
    }
   ],
   "source": [
    "print(arr)"
   ]
  },
  {
   "cell_type": "code",
   "execution_count": 52,
   "id": "98507ea2",
   "metadata": {},
   "outputs": [
    {
     "name": "stdout",
     "output_type": "stream",
     "text": [
      "['56' '78.8' '98' 'naveen' 'shiva']\n"
     ]
    }
   ],
   "source": [
    "print(np.sort(arr))"
   ]
  },
  {
   "cell_type": "code",
   "execution_count": 53,
   "id": "59b1d695",
   "metadata": {},
   "outputs": [],
   "source": [
    "arr=np.array([[3,4,5],[6,7,8]])"
   ]
  },
  {
   "cell_type": "code",
   "execution_count": 54,
   "id": "482f67a3",
   "metadata": {},
   "outputs": [
    {
     "name": "stdout",
     "output_type": "stream",
     "text": [
      "[[3 4 5]\n",
      " [6 7 8]]\n"
     ]
    }
   ],
   "source": [
    "print(np.sort(arr))"
   ]
  },
  {
   "cell_type": "code",
   "execution_count": 55,
   "id": "3c541d0f",
   "metadata": {},
   "outputs": [
    {
     "name": "stdout",
     "output_type": "stream",
     "text": [
      "[[ 4  5 12]\n",
      " [ 6  8 78]]\n"
     ]
    }
   ],
   "source": [
    "arr=np.array([[4,5,12],[6,8,78]])\n",
    "print(arr)"
   ]
  },
  {
   "cell_type": "code",
   "execution_count": 56,
   "id": "598aacdc",
   "metadata": {},
   "outputs": [
    {
     "name": "stdout",
     "output_type": "stream",
     "text": [
      "[ 4  5 12  6  8 78]\n"
     ]
    }
   ],
   "source": [
    "print(arr.flatten()) #will convert 2D array to 1D"
   ]
  },
  {
   "cell_type": "code",
   "execution_count": 57,
   "id": "19a9e7a7",
   "metadata": {},
   "outputs": [
    {
     "name": "stdout",
     "output_type": "stream",
     "text": [
      "[[ 4  6]\n",
      " [ 5  8]\n",
      " [12 78]]\n"
     ]
    }
   ],
   "source": [
    "print(arr.T) #transpose"
   ]
  },
  {
   "cell_type": "code",
   "execution_count": 58,
   "id": "8c9eaa81",
   "metadata": {},
   "outputs": [
    {
     "name": "stdout",
     "output_type": "stream",
     "text": [
      "[[ 9 12  5 67]\n",
      " [ 5  9  6  8]\n",
      " [12  1  4  6]]\n"
     ]
    }
   ],
   "source": [
    "arr=np.array([[9,12,5],[67,5,9],[6,8,12],[1,4,6]])\n",
    "print(arr.reshape(3,4)) \n",
    "#will reshape the array into 3x4 array  as it has 12 variables\n"
   ]
  },
  {
   "cell_type": "code",
   "execution_count": 59,
   "id": "5dd501fa",
   "metadata": {},
   "outputs": [
    {
     "name": "stdout",
     "output_type": "stream",
     "text": [
      "[[ 9 12  5 67  5]\n",
      " [ 9  6  8 12  1]\n",
      " [ 4  6  9 12  5]\n",
      " [67  5  9  6  8]\n",
      " [12  1  4  6  9]]\n"
     ]
    }
   ],
   "source": [
    "print(np.resize(arr,(5,5)))\n",
    "# will change array shape to 5x5 "
   ]
  },
  {
   "cell_type": "code",
   "execution_count": 60,
   "id": "faf1b84c",
   "metadata": {},
   "outputs": [
    {
     "name": "stdout",
     "output_type": "stream",
     "text": [
      "[[1 2 3 4]\n",
      " [3 4 5 6]\n",
      " [4 5 6 7]\n",
      " [6 7 8 9]]\n"
     ]
    }
   ],
   "source": [
    "arr=np.array([[1,2,3,4],[3,4,5,6],[4,5,6,7],[6,7,8,9]])\n",
    "print(arr)"
   ]
  },
  {
   "cell_type": "code",
   "execution_count": 61,
   "id": "47b93778",
   "metadata": {},
   "outputs": [],
   "source": [
    "arr1=np.append(arr,[10,20,30,40])"
   ]
  },
  {
   "cell_type": "code",
   "execution_count": 62,
   "id": "e7785c85",
   "metadata": {},
   "outputs": [
    {
     "name": "stdout",
     "output_type": "stream",
     "text": [
      "[ 1  2  3  4  3  4  5  6  4  5  6  7  6  7  8  9 10 20 30 40]\n"
     ]
    }
   ],
   "source": [
    "print(arr1)\n",
    "#print(arr1) #it wont print in matrix form use reshape"
   ]
  },
  {
   "cell_type": "code",
   "execution_count": 63,
   "id": "164c3d05",
   "metadata": {},
   "outputs": [
    {
     "name": "stdout",
     "output_type": "stream",
     "text": [
      "[[ 1  2  3  4]\n",
      " [ 3  4  5  6]\n",
      " [ 4  5  6  7]\n",
      " [ 6  7  8  9]\n",
      " [10 20 30 40]]\n"
     ]
    }
   ],
   "source": [
    "arr1=arr1.reshape(5,4)\n",
    "print(arr1)"
   ]
  },
  {
   "cell_type": "code",
   "execution_count": 64,
   "id": "553176e0",
   "metadata": {},
   "outputs": [
    {
     "name": "stdout",
     "output_type": "stream",
     "text": [
      "[[ 1  2  3  4]\n",
      " [ 3  4 12 13]\n",
      " [14 15  5  6]\n",
      " [ 4  5  6  7]\n",
      " [ 6  7  8  9]]\n"
     ]
    }
   ],
   "source": [
    "arr1=np.insert(arr,6,(12,13,14,15))\n",
    "#matrix will add by  6th position onwards\n",
    "arr1=arr1.reshape(5,4)\n",
    "print(arr1)"
   ]
  },
  {
   "cell_type": "code",
   "execution_count": 65,
   "id": "184bf2c7",
   "metadata": {},
   "outputs": [
    {
     "name": "stdout",
     "output_type": "stream",
     "text": [
      "[[1 2 3 4]\n",
      " [4 5 6 7]\n",
      " [6 7 8 9]]\n"
     ]
    }
   ],
   "source": [
    "print(np.delete(arr,1,axis=0))"
   ]
  },
  {
   "cell_type": "code",
   "execution_count": 66,
   "id": "39d7d3e8",
   "metadata": {},
   "outputs": [
    {
     "name": "stdout",
     "output_type": "stream",
     "text": [
      "[[1 2 4]\n",
      " [3 4 6]\n",
      " [4 5 7]\n",
      " [6 7 9]]\n"
     ]
    }
   ],
   "source": [
    "print(np.delete(arr,2,axis=1))"
   ]
  },
  {
   "cell_type": "markdown",
   "id": "6769c3ae",
   "metadata": {},
   "source": [
    "# concatenate"
   ]
  },
  {
   "cell_type": "code",
   "execution_count": 67,
   "id": "9606f374",
   "metadata": {},
   "outputs": [
    {
     "name": "stdout",
     "output_type": "stream",
     "text": [
      "[[  1   2   3   4   5]\n",
      " [  4   5   6   7   8]\n",
      " [100 200 300 400 500]\n",
      " [ 34  56  43  21  76]]\n"
     ]
    }
   ],
   "source": [
    "arr=np.array([[1,2,3,4,5],[4,5,6,7,8],[100,200,300,400,500],[34,56,43,21,76]])\n",
    "arr1=np.array([[12,13,14,15,16],[21,22,23,24,25],[31,32,33,34,35],[56,57,58,59,60]])\n",
    "arr2=np.array([[5,6,7,8],[3,4,5,6],[1,2,3,4],[7,8,9,90]])\n",
    "print(arr)"
   ]
  },
  {
   "cell_type": "code",
   "execution_count": 68,
   "id": "31c4c9c1",
   "metadata": {},
   "outputs": [
    {
     "name": "stdout",
     "output_type": "stream",
     "text": [
      "[[12 13 14 15 16]\n",
      " [21 22 23 24 25]\n",
      " [31 32 33 34 35]\n",
      " [56 57 58 59 60]]\n"
     ]
    }
   ],
   "source": [
    "print(arr1)\n"
   ]
  },
  {
   "cell_type": "code",
   "execution_count": 69,
   "id": "86fa2e85",
   "metadata": {},
   "outputs": [
    {
     "name": "stdout",
     "output_type": "stream",
     "text": [
      "[[ 5  6  7  8]\n",
      " [ 3  4  5  6]\n",
      " [ 1  2  3  4]\n",
      " [ 7  8  9 90]]\n"
     ]
    }
   ],
   "source": [
    "print(arr2)"
   ]
  },
  {
   "cell_type": "code",
   "execution_count": 70,
   "id": "3b27d56c",
   "metadata": {},
   "outputs": [
    {
     "name": "stdout",
     "output_type": "stream",
     "text": [
      "[[  1   2   3   4   5]\n",
      " [  4   5   6   7   8]\n",
      " [100 200 300 400 500]\n",
      " [ 34  56  43  21  76]\n",
      " [ 12  13  14  15  16]\n",
      " [ 21  22  23  24  25]\n",
      " [ 31  32  33  34  35]\n",
      " [ 56  57  58  59  60]]\n"
     ]
    }
   ],
   "source": [
    "print(np.concatenate((arr,arr1),axis=0)) \n",
    "# it will add rows to the arr\n"
   ]
  },
  {
   "cell_type": "code",
   "execution_count": 71,
   "id": "fd536aa7",
   "metadata": {},
   "outputs": [
    {
     "name": "stdout",
     "output_type": "stream",
     "text": [
      "[[  1   2   3   4   5  12  13  14  15  16]\n",
      " [  4   5   6   7   8  21  22  23  24  25]\n",
      " [100 200 300 400 500  31  32  33  34  35]\n",
      " [ 34  56  43  21  76  56  57  58  59  60]]\n"
     ]
    }
   ],
   "source": [
    "print(np.concatenate((arr,arr1),axis=1))\n",
    "#it will add columns to arr"
   ]
  },
  {
   "cell_type": "code",
   "execution_count": 72,
   "id": "41eafc7d",
   "metadata": {},
   "outputs": [
    {
     "name": "stdout",
     "output_type": "stream",
     "text": [
      "[array([[5, 6, 7, 8],\n",
      "       [3, 4, 5, 6]]), array([[ 1,  2,  3,  4],\n",
      "       [ 7,  8,  9, 90]])]\n"
     ]
    }
   ],
   "source": [
    "print(np.split(arr2,2)) \n",
    "# will split array to sub array based on rows\n"
   ]
  },
  {
   "cell_type": "code",
   "execution_count": 74,
   "id": "ea87d4dd",
   "metadata": {},
   "outputs": [
    {
     "name": "stdout",
     "output_type": "stream",
     "text": [
      "[array([[12, 13],\n",
      "       [21, 22],\n",
      "       [31, 32],\n",
      "       [56, 58]]), array([[14, 15],\n",
      "       [24, 25],\n",
      "       [34, 35],\n",
      "       [59, 60]])]\n"
     ]
    }
   ],
   "source": [
    "arr1=np.array([[12,13,14,15],[21,22,24,25],[31,32,34,35],[56,58,59,60]])\n",
    "print(np.hsplit(arr1,2)) \n",
    "#will split to sub array horizotally i.e columns\n"
   ]
  },
  {
   "cell_type": "code",
   "execution_count": 75,
   "id": "5f0a2969",
   "metadata": {},
   "outputs": [
    {
     "name": "stdout",
     "output_type": "stream",
     "text": [
      "[array([[12, 13, 14, 15],\n",
      "       [21, 22, 24, 25]]), array([[31, 32, 34, 35],\n",
      "       [56, 58, 59, 60]])]\n"
     ]
    }
   ],
   "source": [
    "print(np.vsplit(arr1,2))\n",
    "# vertical "
   ]
  },
  {
   "cell_type": "markdown",
   "id": "04e571f8",
   "metadata": {},
   "source": [
    "# indexing/slicing/subsetting"
   ]
  },
  {
   "cell_type": "code",
   "execution_count": 77,
   "id": "891cf209",
   "metadata": {},
   "outputs": [
    {
     "name": "stdout",
     "output_type": "stream",
     "text": [
      "14\n"
     ]
    }
   ],
   "source": [
    "arr=np.array([10,11,2,13,14])\n",
    "arr1=np.array([[12,14,5,78,7],[5,7,66,4,87]])\n",
    "\n",
    "print(arr[4])  # will give the number based on index\n"
   ]
  },
  {
   "cell_type": "code",
   "execution_count": 78,
   "id": "66528129",
   "metadata": {},
   "outputs": [
    {
     "name": "stdout",
     "output_type": "stream",
     "text": [
      "87\n"
     ]
    }
   ],
   "source": [
    "print(arr1[1,4])# will give the elements of 2d array\n"
   ]
  },
  {
   "cell_type": "code",
   "execution_count": 79,
   "id": "7f822a00",
   "metadata": {},
   "outputs": [
    {
     "name": "stdout",
     "output_type": "stream",
     "text": [
      "[10  9  2 13 14]\n"
     ]
    }
   ],
   "source": [
    "arr[1]=9\n",
    "print(arr)"
   ]
  },
  {
   "cell_type": "code",
   "execution_count": 80,
   "id": "bc3e80d3",
   "metadata": {},
   "outputs": [
    {
     "name": "stdout",
     "output_type": "stream",
     "text": [
      "[[12 14  5 78  7]\n",
      " [ 5  7 66  4 10]]\n"
     ]
    }
   ],
   "source": [
    "arr1[1,4]=10\n",
    "print(arr1)"
   ]
  },
  {
   "cell_type": "code",
   "execution_count": 81,
   "id": "d9081f1b",
   "metadata": {},
   "outputs": [
    {
     "name": "stdout",
     "output_type": "stream",
     "text": [
      "[10  9  2]\n"
     ]
    }
   ],
   "source": [
    "print(arr[:3]) # excluding 3 it gives the all values\n",
    "#will give the elements in array with positions\n"
   ]
  },
  {
   "cell_type": "code",
   "execution_count": 82,
   "id": "959af7f0",
   "metadata": {},
   "outputs": [
    {
     "name": "stdout",
     "output_type": "stream",
     "text": [
      "[[12]\n",
      " [ 5]]\n"
     ]
    }
   ],
   "source": [
    "print(arr1[0:2,0:1]) \n",
    "# will give the elements on rows 0,1,2\n"
   ]
  },
  {
   "cell_type": "code",
   "execution_count": 83,
   "id": "fd666729",
   "metadata": {},
   "outputs": [
    {
     "name": "stdout",
     "output_type": "stream",
     "text": [
      "[[12 14  5 78  7]]\n"
     ]
    }
   ],
   "source": [
    "print(arr1[:1])"
   ]
  },
  {
   "cell_type": "code",
   "execution_count": 84,
   "id": "8a86f191",
   "metadata": {},
   "outputs": [
    {
     "name": "stdout",
     "output_type": "stream",
     "text": [
      "[[12 14]\n",
      " [ 5  7]]\n"
     ]
    }
   ],
   "source": [
    "print(arr1[:,:2])"
   ]
  },
  {
   "cell_type": "code",
   "execution_count": 85,
   "id": "8d5395cf",
   "metadata": {},
   "outputs": [
    {
     "name": "stdout",
     "output_type": "stream",
     "text": [
      "[False False  True False False]\n"
     ]
    }
   ],
   "source": [
    "print(arr<5)# return an array with boolean value\n"
   ]
  },
  {
   "cell_type": "code",
   "execution_count": 86,
   "id": "cd5f0a25",
   "metadata": {},
   "outputs": [
    {
     "name": "stdout",
     "output_type": "stream",
     "text": [
      "[False False False False False]\n"
     ]
    }
   ],
   "source": [
    "print((arr>3)&(arr<5))"
   ]
  },
  {
   "cell_type": "code",
   "execution_count": 87,
   "id": "77cb313c",
   "metadata": {},
   "outputs": [
    {
     "name": "stdout",
     "output_type": "stream",
     "text": [
      "[[False False False False False]\n",
      " [False False False  True False]]\n"
     ]
    }
   ],
   "source": [
    "print(arr1<5)"
   ]
  },
  {
   "cell_type": "code",
   "execution_count": null,
   "id": "68ca3200",
   "metadata": {},
   "outputs": [],
   "source": []
  },
  {
   "cell_type": "markdown",
   "id": "87f3d3c1",
   "metadata": {},
   "source": [
    "# scalar math"
   ]
  },
  {
   "cell_type": "code",
   "execution_count": 88,
   "id": "0e747f4c",
   "metadata": {},
   "outputs": [],
   "source": [
    "arr=np.array([10,11,12,13,14])\n",
    "arr1=np.array([[10,11,12,13,14],[21,22,23,24,25]])\n"
   ]
  },
  {
   "cell_type": "code",
   "execution_count": 89,
   "id": "a056afa9",
   "metadata": {},
   "outputs": [
    {
     "name": "stdout",
     "output_type": "stream",
     "text": [
      "[12 13 14 15 16]\n"
     ]
    }
   ],
   "source": [
    "print(np.add(arr,2)) # will add 2 to each array element\n"
   ]
  },
  {
   "cell_type": "code",
   "execution_count": 90,
   "id": "b227bcdd",
   "metadata": {},
   "outputs": [
    {
     "name": "stdout",
     "output_type": "stream",
     "text": [
      "[[12 13 14 15 16]\n",
      " [23 24 25 26 27]]\n"
     ]
    }
   ],
   "source": [
    "print(np.add(arr1,2))  #will add 2 to each array element\n"
   ]
  },
  {
   "cell_type": "code",
   "execution_count": 91,
   "id": "b06bdaca",
   "metadata": {},
   "outputs": [
    {
     "name": "stdout",
     "output_type": "stream",
     "text": [
      "[5 6 7 8 9]\n"
     ]
    }
   ],
   "source": [
    "print(np.subtract(arr,5))  #will sub 5 to each array element"
   ]
  },
  {
   "cell_type": "code",
   "execution_count": 92,
   "id": "e5b27f74",
   "metadata": {},
   "outputs": [
    {
     "name": "stdout",
     "output_type": "stream",
     "text": [
      "[50 55 60 65 70]\n"
     ]
    }
   ],
   "source": [
    "print(np.multiply(arr,5))  #will mul 5 to each  and every  element\n"
   ]
  },
  {
   "cell_type": "code",
   "execution_count": 93,
   "id": "ec09fc91",
   "metadata": {},
   "outputs": [
    {
     "name": "stdout",
     "output_type": "stream",
     "text": [
      "[[2.5  2.75 3.   3.25 3.5 ]\n",
      " [5.25 5.5  5.75 6.   6.25]]\n"
     ]
    }
   ],
   "source": [
    "print(np.divide(arr1,4))\n"
   ]
  },
  {
   "cell_type": "code",
   "execution_count": 94,
   "id": "88c5265e",
   "metadata": {},
   "outputs": [
    {
     "name": "stdout",
     "output_type": "stream",
     "text": [
      "[100 121 144 169 196]\n"
     ]
    }
   ],
   "source": [
    "print(np.power(arr,2))  \n"
   ]
  },
  {
   "cell_type": "code",
   "execution_count": null,
   "id": "76658253",
   "metadata": {},
   "outputs": [],
   "source": []
  },
  {
   "cell_type": "markdown",
   "id": "3f66df02",
   "metadata": {},
   "source": [
    "# vector math"
   ]
  },
  {
   "cell_type": "code",
   "execution_count": 95,
   "id": "3d9ca5e8",
   "metadata": {},
   "outputs": [],
   "source": [
    "arr=np.array([[1.1,2.8,3.6,4],[5.2,6.5,7.8,8.9]])\n",
    "\n",
    "arr1=np.array([[9,10,11,12],[13,14,15,16]])\n",
    "              \n",
    "arr2=np.array([[9,10,11,12],[13,14,15,16]])"
   ]
  },
  {
   "cell_type": "code",
   "execution_count": 96,
   "id": "336b64b8",
   "metadata": {},
   "outputs": [
    {
     "name": "stdout",
     "output_type": "stream",
     "text": [
      "True\n"
     ]
    }
   ],
   "source": [
    "print(np.array_equal(arr2,arr1))\n"
   ]
  },
  {
   "cell_type": "code",
   "execution_count": 97,
   "id": "776880b0",
   "metadata": {},
   "outputs": [
    {
     "name": "stdout",
     "output_type": "stream",
     "text": [
      "[[3.         3.16227766 3.31662479 3.46410162]\n",
      " [3.60555128 3.74165739 3.87298335 4.        ]]\n"
     ]
    }
   ],
   "source": [
    "print(np.sqrt(arr1))"
   ]
  },
  {
   "cell_type": "code",
   "execution_count": 98,
   "id": "55af2324",
   "metadata": {},
   "outputs": [
    {
     "name": "stdout",
     "output_type": "stream",
     "text": [
      "[[ 0.41211849 -0.54402111 -0.99999021 -0.53657292]\n",
      " [ 0.42016704  0.99060736  0.65028784 -0.28790332]]\n"
     ]
    }
   ],
   "source": [
    "print(np.sin(arr1))  # radians values"
   ]
  },
  {
   "cell_type": "code",
   "execution_count": 99,
   "id": "34cd5049",
   "metadata": {},
   "outputs": [
    {
     "name": "stdout",
     "output_type": "stream",
     "text": [
      "[[2.19722458 2.30258509 2.39789527 2.48490665]\n",
      " [2.56494936 2.63905733 2.7080502  2.77258872]]\n"
     ]
    }
   ],
   "source": [
    "print(np.log(arr1))"
   ]
  },
  {
   "cell_type": "code",
   "execution_count": 100,
   "id": "af19761b",
   "metadata": {},
   "outputs": [
    {
     "name": "stdout",
     "output_type": "stream",
     "text": [
      "[[2. 3. 4. 4.]\n",
      " [6. 7. 8. 9.]]\n"
     ]
    }
   ],
   "source": [
    "print(np.ceil(arr))"
   ]
  },
  {
   "cell_type": "code",
   "execution_count": 101,
   "id": "86742e55",
   "metadata": {},
   "outputs": [
    {
     "name": "stdout",
     "output_type": "stream",
     "text": [
      "[[1. 2. 3. 4.]\n",
      " [5. 6. 7. 8.]]\n"
     ]
    }
   ],
   "source": [
    "print(np.floor(arr))"
   ]
  },
  {
   "cell_type": "code",
   "execution_count": 102,
   "id": "0376434d",
   "metadata": {},
   "outputs": [
    {
     "name": "stdout",
     "output_type": "stream",
     "text": [
      "[[ 9 10 11 12]\n",
      " [13 14 15 16]]\n"
     ]
    }
   ],
   "source": [
    "print(np.round(arr1))"
   ]
  },
  {
   "cell_type": "code",
   "execution_count": 103,
   "id": "201a9123",
   "metadata": {},
   "outputs": [
    {
     "name": "stdout",
     "output_type": "stream",
     "text": [
      "[[1. 3. 4. 4.]\n",
      " [5. 6. 8. 9.]]\n"
     ]
    }
   ],
   "source": [
    "print(np.round(arr)) #round figure"
   ]
  },
  {
   "cell_type": "code",
   "execution_count": null,
   "id": "fed5f8fd",
   "metadata": {},
   "outputs": [],
   "source": []
  },
  {
   "cell_type": "code",
   "execution_count": 104,
   "id": "6dcf2c94",
   "metadata": {},
   "outputs": [],
   "source": [
    "arr=np.array([[9,10,11,12],[13,14,15,6]])\n",
    "              \n",
    "arr1=np.array([[1,2,3,4],[5,6,7,8]])"
   ]
  },
  {
   "cell_type": "code",
   "execution_count": 105,
   "id": "3693a1a9",
   "metadata": {},
   "outputs": [
    {
     "name": "stdout",
     "output_type": "stream",
     "text": [
      "[3. 4. 5. 6.]\n"
     ]
    }
   ],
   "source": [
    "print(np.mean(arr1,axis=0))"
   ]
  },
  {
   "cell_type": "code",
   "execution_count": 106,
   "id": "ab3b8add",
   "metadata": {},
   "outputs": [
    {
     "name": "stdout",
     "output_type": "stream",
     "text": [
      "4.5\n"
     ]
    }
   ],
   "source": [
    "print(np.mean(arr1))"
   ]
  },
  {
   "cell_type": "code",
   "execution_count": 107,
   "id": "d9e8ab17",
   "metadata": {},
   "outputs": [
    {
     "name": "stdout",
     "output_type": "stream",
     "text": [
      "[2.5 6.5]\n"
     ]
    }
   ],
   "source": [
    "print(np.mean(arr1,axis=1))"
   ]
  },
  {
   "cell_type": "code",
   "execution_count": 108,
   "id": "ef816a8f",
   "metadata": {},
   "outputs": [
    {
     "name": "stdout",
     "output_type": "stream",
     "text": [
      "1\n"
     ]
    }
   ],
   "source": [
    "print(arr1.min())"
   ]
  },
  {
   "cell_type": "code",
   "execution_count": 109,
   "id": "d6fbdc8c",
   "metadata": {},
   "outputs": [
    {
     "name": "stdout",
     "output_type": "stream",
     "text": [
      "15\n"
     ]
    }
   ],
   "source": [
    "print(arr.max())"
   ]
  },
  {
   "cell_type": "code",
   "execution_count": 110,
   "id": "55b3aa31",
   "metadata": {},
   "outputs": [
    {
     "name": "stdout",
     "output_type": "stream",
     "text": [
      "[12 15]\n"
     ]
    }
   ],
   "source": [
    "print(arr.max(axis=1))"
   ]
  },
  {
   "cell_type": "code",
   "execution_count": 111,
   "id": "209c9a0c",
   "metadata": {},
   "outputs": [
    {
     "name": "stdout",
     "output_type": "stream",
     "text": [
      "1.25\n"
     ]
    }
   ],
   "source": [
    "arr=np.array([[3,4],[5,6]])\n",
    "print(np.var(arr))  #variance"
   ]
  },
  {
   "cell_type": "code",
   "execution_count": 112,
   "id": "77cba4da",
   "metadata": {},
   "outputs": [
    {
     "name": "stdout",
     "output_type": "stream",
     "text": [
      "[0.5 0.5]\n"
     ]
    }
   ],
   "source": [
    "print(np.std(arr,axis=1))"
   ]
  },
  {
   "cell_type": "code",
   "execution_count": null,
   "id": "07a692ba",
   "metadata": {},
   "outputs": [],
   "source": []
  }
 ],
 "metadata": {
  "kernelspec": {
   "display_name": "Python 3 (ipykernel)",
   "language": "python",
   "name": "python3"
  },
  "language_info": {
   "codemirror_mode": {
    "name": "ipython",
    "version": 3
   },
   "file_extension": ".py",
   "mimetype": "text/x-python",
   "name": "python",
   "nbconvert_exporter": "python",
   "pygments_lexer": "ipython3",
   "version": "3.9.7"
  }
 },
 "nbformat": 4,
 "nbformat_minor": 5
}
